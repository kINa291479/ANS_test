{
 "cells": [
  {
   "cell_type": "code",
   "execution_count": 2,
   "id": "ed33bf25-d62e-4352-baed-e0b96ef9271a",
   "metadata": {},
   "outputs": [],
   "source": [
    "from ANS import *"
   ]
  },
  {
   "cell_type": "markdown",
   "id": "937ff851-2063-4c63-95b1-3e18ab739751",
   "metadata": {},
   "source": [
    "# Please Read the instruction carefully after you launch the test"
   ]
  },
  {
   "cell_type": "code",
   "execution_count": 4,
   "id": "8ab42ff1-7d25-48eb-8244-32d1626922c3",
   "metadata": {},
   "outputs": [
    {
     "data": {
      "text/html": [
       "<h1>Which color has more dots?</h1>"
      ],
      "text/plain": [
       "<IPython.core.display.HTML object>"
      ]
     },
     "metadata": {},
     "output_type": "display_data"
    },
    {
     "data": {
      "application/vnd.jupyter.widget-view+json": {
       "model_id": "a3c36d29e139410884f488b40000faa1",
       "version_major": 2,
       "version_minor": 0
      },
      "text/plain": [
       "HBox(children=(Button(description='blue', style=ButtonStyle(button_color='lightblue')), Button(description='re…"
      ]
     },
     "metadata": {},
     "output_type": "display_data"
    },
    {
     "ename": "KeyboardInterrupt",
     "evalue": "",
     "output_type": "error",
     "traceback": [
      "\u001b[0;31m---------------------------------------------------------------------------\u001b[0m",
      "\u001b[0;31mKeyboardInterrupt\u001b[0m                         Traceback (most recent call last)",
      "Cell \u001b[0;32mIn[4], line 1\u001b[0m\n\u001b[0;32m----> 1\u001b[0m \u001b[43mFull_ANS_test\u001b[49m\u001b[43m(\u001b[49m\u001b[38;5;241;43m64\u001b[39;49m\u001b[43m)\u001b[49m\n",
      "File \u001b[0;32m~/HOMEWORKS/ANS coursework/ANS.py:439\u001b[0m, in \u001b[0;36mFull_ANS_test\u001b[0;34m(numoftrial)\u001b[0m\n\u001b[1;32m    436\u001b[0m \u001b[38;5;28;01mfor\u001b[39;00m i \u001b[38;5;129;01min\u001b[39;00m \u001b[38;5;28mrange\u001b[39m(\u001b[38;5;241m1\u001b[39m,numoftrial\u001b[38;5;241m+\u001b[39m\u001b[38;5;241m1\u001b[39m):\n\u001b[1;32m    438\u001b[0m     red_num,blu_num \u001b[38;5;241m=\u001b[39m pattern_generation(patterns,multiplier, list_of_value)\n\u001b[0;32m--> 439\u001b[0m     score, time_taken \u001b[38;5;241m=\u001b[39m \u001b[43mplot_ANS_test\u001b[49m\u001b[43m(\u001b[49m\u001b[43mred_num\u001b[49m\u001b[43m,\u001b[49m\u001b[43mblu_num\u001b[49m\u001b[43m,\u001b[49m\u001b[38;5;124;43m'\u001b[39;49m\u001b[38;5;124;43mred\u001b[39;49m\u001b[38;5;124;43m'\u001b[39;49m\u001b[43m,\u001b[49m\u001b[38;5;124;43m'\u001b[39;49m\u001b[38;5;124;43mblue\u001b[39;49m\u001b[38;5;124;43m'\u001b[39;49m\u001b[43m)\u001b[49m\n\u001b[1;32m    441\u001b[0m     total_score \u001b[38;5;241m+\u001b[39m\u001b[38;5;241m=\u001b[39m score\n\u001b[1;32m    443\u001b[0m     \u001b[38;5;28;01mif\u001b[39;00m time_taken \u001b[38;5;241m==\u001b[39m \u001b[38;5;28mfloat\u001b[39m:\n",
      "File \u001b[0;32m~/HOMEWORKS/ANS coursework/ANS.py:231\u001b[0m, in \u001b[0;36mplot_ANS_test\u001b[0;34m(num1, num2, color1, color2)\u001b[0m\n\u001b[1;32m    228\u001b[0m display(html_out)\n\u001b[1;32m    230\u001b[0m display(panel)\n\u001b[0;32m--> 231\u001b[0m result \u001b[38;5;241m=\u001b[39m \u001b[43mwait_for_event\u001b[49m\u001b[43m(\u001b[49m\u001b[43mtimeout\u001b[49m\u001b[43m \u001b[49m\u001b[38;5;241;43m=\u001b[39;49m\u001b[43m \u001b[49m\u001b[38;5;241;43m3\u001b[39;49m\u001b[43m)\u001b[49m\n\u001b[1;32m    234\u001b[0m \u001b[38;5;28;01mwhile\u001b[39;00m test \u001b[38;5;241m==\u001b[39m \u001b[38;5;28;01mTrue\u001b[39;00m:\n\u001b[1;32m    235\u001b[0m     \u001b[38;5;28;01mif\u001b[39;00m result[\u001b[38;5;124m'\u001b[39m\u001b[38;5;124mdescription\u001b[39m\u001b[38;5;124m'\u001b[39m] \u001b[38;5;241m==\u001b[39m color1 :\n",
      "File \u001b[0;32m~/HOMEWORKS/ANS coursework/ANS.py:72\u001b[0m, in \u001b[0;36mwait_for_event\u001b[0;34m(timeout, interval, max_rate, allow_interupt)\u001b[0m\n\u001b[1;32m     69\u001b[0m keep_looping \u001b[38;5;241m=\u001b[39m \u001b[38;5;28;01mTrue\u001b[39;00m\n\u001b[1;32m     70\u001b[0m \u001b[38;5;28;01mwhile\u001b[39;00m keep_looping\u001b[38;5;241m==\u001b[39m\u001b[38;5;28;01mTrue\u001b[39;00m:\n\u001b[1;32m     71\u001b[0m     \u001b[38;5;66;03m# process UI events\u001b[39;00m\n\u001b[0;32m---> 72\u001b[0m     \u001b[43mui_poll\u001b[49m\u001b[43m(\u001b[49m\u001b[43mn_proc\u001b[49m\u001b[43m)\u001b[49m\n\u001b[1;32m     74\u001b[0m     \u001b[38;5;66;03m# end loop if we have waited more than the timeout period\u001b[39;00m\n\u001b[1;32m     75\u001b[0m     \u001b[38;5;28;01mif\u001b[39;00m (timeout \u001b[38;5;241m!=\u001b[39m \u001b[38;5;241m-\u001b[39m\u001b[38;5;241m1\u001b[39m) \u001b[38;5;129;01mand\u001b[39;00m (time\u001b[38;5;241m.\u001b[39mtime() \u001b[38;5;241m>\u001b[39m start_wait \u001b[38;5;241m+\u001b[39m timeout):\n",
      "File \u001b[0;32m/opt/tljh/user/lib/python3.10/site-packages/jupyter_ui_poll/_async_thread.py:42\u001b[0m, in \u001b[0;36mAsyncThread.wrap.<locals>.sync_func\u001b[0;34m(*args, **kwargs)\u001b[0m\n\u001b[1;32m     41\u001b[0m \u001b[38;5;28;01mdef\u001b[39;00m \u001b[38;5;21msync_func\u001b[39m(\u001b[38;5;241m*\u001b[39margs, \u001b[38;5;241m*\u001b[39m\u001b[38;5;241m*\u001b[39mkwargs):\n\u001b[0;32m---> 42\u001b[0m     \u001b[38;5;28;01mreturn\u001b[39;00m \u001b[38;5;28;43mself\u001b[39;49m\u001b[38;5;241;43m.\u001b[39;49m\u001b[43msubmit\u001b[49m\u001b[43m(\u001b[49m\u001b[43mfunc\u001b[49m\u001b[43m,\u001b[49m\u001b[43m \u001b[49m\u001b[38;5;241;43m*\u001b[39;49m\u001b[43margs\u001b[49m\u001b[43m,\u001b[49m\u001b[43m \u001b[49m\u001b[38;5;241;43m*\u001b[39;49m\u001b[38;5;241;43m*\u001b[39;49m\u001b[43mkwargs\u001b[49m\u001b[43m)\u001b[49m\u001b[38;5;241m.\u001b[39mresult()\n",
      "File \u001b[0;32m/opt/tljh/user/lib/python3.10/site-packages/jupyter_ui_poll/_async_thread.py:38\u001b[0m, in \u001b[0;36mAsyncThread.submit\u001b[0;34m(self, func, *args, **kwargs)\u001b[0m\n\u001b[1;32m     34\u001b[0m \u001b[38;5;28;01mdef\u001b[39;00m \u001b[38;5;21msubmit\u001b[39m(\u001b[38;5;28mself\u001b[39m, func, \u001b[38;5;241m*\u001b[39margs, \u001b[38;5;241m*\u001b[39m\u001b[38;5;241m*\u001b[39mkwargs):\n\u001b[1;32m     35\u001b[0m \u001b[38;5;250m    \u001b[39m\u001b[38;5;124;03m\"\"\"\u001b[39;00m\n\u001b[1;32m     36\u001b[0m \u001b[38;5;124;03m    Run async func with args/kwargs in separate thread, returns Future object.\u001b[39;00m\n\u001b[1;32m     37\u001b[0m \u001b[38;5;124;03m    \"\"\"\u001b[39;00m\n\u001b[0;32m---> 38\u001b[0m     \u001b[38;5;28;01mreturn\u001b[39;00m \u001b[43masyncio\u001b[49m\u001b[38;5;241;43m.\u001b[39;49m\u001b[43mrun_coroutine_threadsafe\u001b[49m\u001b[43m(\u001b[49m\u001b[43mfunc\u001b[49m\u001b[43m(\u001b[49m\u001b[38;5;241;43m*\u001b[39;49m\u001b[43margs\u001b[49m\u001b[43m,\u001b[49m\u001b[43m \u001b[49m\u001b[38;5;241;43m*\u001b[39;49m\u001b[38;5;241;43m*\u001b[39;49m\u001b[43mkwargs\u001b[49m\u001b[43m)\u001b[49m\u001b[43m,\u001b[49m\u001b[43m \u001b[49m\u001b[38;5;28;43mself\u001b[39;49m\u001b[38;5;241;43m.\u001b[39;49m\u001b[43m_loop\u001b[49m\u001b[43m)\u001b[49m\n",
      "File \u001b[0;32m/opt/tljh/user/lib/python3.10/asyncio/tasks.py:892\u001b[0m, in \u001b[0;36mrun_coroutine_threadsafe\u001b[0;34m(coro, loop)\u001b[0m\n\u001b[1;32m    889\u001b[0m             future\u001b[38;5;241m.\u001b[39mset_exception(exc)\n\u001b[1;32m    890\u001b[0m         \u001b[38;5;28;01mraise\u001b[39;00m\n\u001b[0;32m--> 892\u001b[0m \u001b[43mloop\u001b[49m\u001b[38;5;241;43m.\u001b[39;49m\u001b[43mcall_soon_threadsafe\u001b[49m\u001b[43m(\u001b[49m\u001b[43mcallback\u001b[49m\u001b[43m)\u001b[49m\n\u001b[1;32m    893\u001b[0m \u001b[38;5;28;01mreturn\u001b[39;00m future\n",
      "File \u001b[0;32m/opt/tljh/user/lib/python3.10/asyncio/base_events.py:804\u001b[0m, in \u001b[0;36mBaseEventLoop.call_soon_threadsafe\u001b[0;34m(self, callback, context, *args)\u001b[0m\n\u001b[1;32m    802\u001b[0m \u001b[38;5;28;01mif\u001b[39;00m handle\u001b[38;5;241m.\u001b[39m_source_traceback:\n\u001b[1;32m    803\u001b[0m     \u001b[38;5;28;01mdel\u001b[39;00m handle\u001b[38;5;241m.\u001b[39m_source_traceback[\u001b[38;5;241m-\u001b[39m\u001b[38;5;241m1\u001b[39m]\n\u001b[0;32m--> 804\u001b[0m \u001b[38;5;28;43mself\u001b[39;49m\u001b[38;5;241;43m.\u001b[39;49m\u001b[43m_write_to_self\u001b[49m\u001b[43m(\u001b[49m\u001b[43m)\u001b[49m\n\u001b[1;32m    805\u001b[0m \u001b[38;5;28;01mreturn\u001b[39;00m handle\n",
      "File \u001b[0;32m/opt/tljh/user/lib/python3.10/asyncio/selector_events.py:135\u001b[0m, in \u001b[0;36mBaseSelectorEventLoop._write_to_self\u001b[0;34m(self)\u001b[0m\n\u001b[1;32m    132\u001b[0m     \u001b[38;5;28;01mreturn\u001b[39;00m\n\u001b[1;32m    134\u001b[0m \u001b[38;5;28;01mtry\u001b[39;00m:\n\u001b[0;32m--> 135\u001b[0m     \u001b[43mcsock\u001b[49m\u001b[38;5;241;43m.\u001b[39;49m\u001b[43msend\u001b[49m\u001b[43m(\u001b[49m\u001b[38;5;124;43mb\u001b[39;49m\u001b[38;5;124;43m'\u001b[39;49m\u001b[38;5;130;43;01m\\0\u001b[39;49;00m\u001b[38;5;124;43m'\u001b[39;49m\u001b[43m)\u001b[49m\n\u001b[1;32m    136\u001b[0m \u001b[38;5;28;01mexcept\u001b[39;00m \u001b[38;5;167;01mOSError\u001b[39;00m:\n\u001b[1;32m    137\u001b[0m     \u001b[38;5;28;01mif\u001b[39;00m \u001b[38;5;28mself\u001b[39m\u001b[38;5;241m.\u001b[39m_debug:\n",
      "\u001b[0;31mKeyboardInterrupt\u001b[0m: "
     ]
    }
   ],
   "source": [
    "Full_ANS_test(64)"
   ]
  }
 ],
 "metadata": {
  "kernelspec": {
   "display_name": "Python 3 (ipykernel)",
   "language": "python",
   "name": "python3"
  },
  "language_info": {
   "codemirror_mode": {
    "name": "ipython",
    "version": 3
   },
   "file_extension": ".py",
   "mimetype": "text/x-python",
   "name": "python",
   "nbconvert_exporter": "python",
   "pygments_lexer": "ipython3",
   "version": "3.10.10"
  }
 },
 "nbformat": 4,
 "nbformat_minor": 5
}
