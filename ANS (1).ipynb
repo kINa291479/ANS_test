{
 "cells": [
  {
   "cell_type": "code",
   "execution_count": 10,
   "id": "66ea0b4c-90c0-4f59-b99f-711485bf6dcd",
   "metadata": {},
   "outputs": [],
   "source": [
    "import numpy as np\n",
    "import random\n",
    "import matplotlib.pyplot as plt\n",
    "import time\n",
    "from IPython.display import display, HTML, Image,clear_output\n",
    "import ipywidgets as widgets\n",
    "import requests\n",
    "from bs4 import BeautifulSoup\n",
    "import json"
   ]
  },
  {
   "cell_type": "code",
   "execution_count": 11,
   "id": "4176d57f-7b8b-4644-a2d6-30a8895f27d8",
   "metadata": {},
   "outputs": [],
   "source": [
    "random.seed(1)\n",
    "patterns = {3:4,\n",
    "            6:7,\n",
    "            9:8,\n",
    "            10:9,\n",
    "            }"
   ]
  },
  {
   "cell_type": "code",
   "execution_count": 12,
   "id": "ff665fea-4183-4e25-adf9-93a383c75a5c",
   "metadata": {},
   "outputs": [],
   "source": [
    "multiplier = [2,3,4,5]\n",
    "list_of_value = [3,6,9,10]"
   ]
  },
  {
   "cell_type": "code",
   "execution_count": 2,
   "id": "f9b9c12d-7f1d-4b8f-89d7-851c4c0c0287",
   "metadata": {},
   "outputs": [],
   "source": [
    "def send_to_google_form(data_dict, form_url):\n",
    "    ''' Helper function to upload information to a corresponding google form \n",
    "        You are not expected to follow the code within this function!\n",
    "    '''\n",
    "    form_id = form_url[34:90]\n",
    "    view_form_url = f'https://docs.google.com/forms/d/e/{form_id}/viewform'\n",
    "    post_form_url = f'https://docs.google.com/forms/d/e/{form_id}/formResponse'\n",
    "\n",
    "    page = requests.get(view_form_url)\n",
    "    content = BeautifulSoup(page.content, \"html.parser\").find('script', type='text/javascript')\n",
    "    content = content.text[27:-1]\n",
    "    result = json.loads(content)[1][1]\n",
    "    form_dict = {}\n",
    "    \n",
    "    loaded_all = True\n",
    "    for item in result:\n",
    "        if item[1] not in data_dict:\n",
    "            print(f\"Form item {item[1]} not found. Data not uploaded.\")\n",
    "            loaded_all = False\n",
    "            return False\n",
    "        form_dict[f'entry.{item[4][0][0]}'] = data_dict[item[1]]\n",
    "    \n",
    "    post_result = requests.post(post_form_url, data=form_dict)\n",
    "    return post_result.ok"
   ]
  },
  {
   "cell_type": "code",
   "execution_count": 13,
   "id": "04c4d9e6-c7c5-48d8-8eab-bb16facedf7d",
   "metadata": {},
   "outputs": [],
   "source": [
    "def pattern_generation(pattern,multiplier, value_list):\n",
    "    random_val_num = random.randrange(len(value_list))\n",
    "    random_value = value_list[random_val_num] \n",
    "\n",
    "    if random_value == 3:\n",
    "        multiplier = [3,4,5]\n",
    "    elif random_value == 6:\n",
    "        multiplier = [2,3]\n",
    "    elif random_value == 9:\n",
    "        multiplier = [1]\n",
    "    elif random_value == 10:\n",
    "        multiplier = [1,2]\n",
    "    \n",
    "    random_mul_num = random.randrange(len(multiplier))\n",
    "    random_multiplier = multiplier[random_mul_num]\n",
    "    \n",
    "    final_num_1 = random_value*random_multiplier\n",
    "    #print(f'There are {final_num_1} blue dots!')\n",
    "    \n",
    "    final_num_2 = pattern[random_value]*random_multiplier\n",
    "    #print(f'There are {final_num_2} red dots!')\n",
    "\n",
    "    return final_num_1, final_num_2\n",
    "    \n",
    "\n"
   ]
  },
  {
   "cell_type": "code",
   "execution_count": 5,
   "id": "24929332-4c08-4b07-bfbc-23dcdf88dceb",
   "metadata": {},
   "outputs": [
    {
     "name": "stdout",
     "output_type": "stream",
     "text": [
      "There are 12 blue dots!\n",
      "There are 14 red dots!\n"
     ]
    }
   ],
   "source": []
  },
  {
   "cell_type": "code",
   "execution_count": 53,
   "id": "fb10dc15-9976-4d1a-bbcd-0039b6d449d7",
   "metadata": {},
   "outputs": [
    {
     "data": {
      "application/vnd.jupyter.widget-view+json": {
       "model_id": "664db114da9541e5bd59c25f8fc6b65f",
       "version_major": 2,
       "version_minor": 0
      },
      "text/plain": [
       "Button(description='Click Me', style=ButtonStyle())"
      ]
     },
     "execution_count": 53,
     "metadata": {},
     "output_type": "execute_result"
    }
   ],
   "source": [
    "def change_label(btn):\n",
    "    btn.description = \"Thanks!\"\n",
    "    return\n",
    "    \n",
    "btn1 = widgets.Button(description=\"Click Me\")\n",
    "\n",
    "btn1.on_click(change_label)\n",
    "btn1"
   ]
  },
  {
   "cell_type": "code",
   "execution_count": 14,
   "id": "9d79635e-d6a9-4005-abbe-aacd8c3634db",
   "metadata": {},
   "outputs": [],
   "source": [
    "def plot_ANS_test(num1,num2,color1,color2):\n",
    "    x1 = np.random.randn(num1)\n",
    "    y1 = np.random.randn(num1)\n",
    "    x2 = np.random.randn(num2)\n",
    "    y2 = np.random.randn(num2)\n",
    "    fig = plt.figure()\n",
    "    plt.axis('off')\n",
    "    plt.scatter(x1,y1, c = [color1])\n",
    "    plt.scatter(x2,y2, c = [color2])\n",
    "    \n",
    "    if num1 > num2:\n",
    "        #print(f'There are more {color1} dots than {color2}.')\n",
    "        test = True\n",
    "    elif num2 > num1:\n",
    "        #print(f'There are more {color2} dots than {color1}.')\n",
    "        test = False\n",
    "    else:\n",
    "        print('There is an issue occuring in the system!')\n",
    "    \n",
    "    display(fig)\n",
    "    time.sleep(0.75)\n",
    "    clear_output(wait = False)\n",
    "    plt.close(fig)\n",
    "    \n",
    "    time_limit = 3.0\n",
    "    \n",
    "    start_time = time.time()\n",
    "    answer = input(f'Which color has more dots?({color1} or {color2})')\n",
    "\n",
    "    while test == True:\n",
    "        if answer == color1 :\n",
    "            score = 1\n",
    "            print('You are correct!')\n",
    "            \n",
    "        else:\n",
    "            score = 0\n",
    "            print('You are wrong!')\n",
    "        break\n",
    "    while test == False:\n",
    "        if answer == color2 :\n",
    "            score = 1\n",
    "            #print('You are correct!')\n",
    "        \n",
    "        else:\n",
    "            score = 0\n",
    "            #print('You are wrong！')\n",
    "        break\n",
    "    \n",
    "    end_time = time.time()\n",
    "    time_taken = end_time - start_time\n",
    "    \n",
    "    if time_taken > time_limit:\n",
    "        score = 0\n",
    "        print(f'you have taken too long!(Try to respond in {time_limit} seconds!)')\n",
    "        #if the user took too long when responding, do not take that into account\n",
    "    \n",
    "    return score, time_taken"
   ]
  },
  {
   "cell_type": "code",
   "execution_count": 38,
   "id": "97327f87-aa3f-43fb-88c6-df52d512205d",
   "metadata": {},
   "outputs": [
    {
     "name": "stdin",
     "output_type": "stream",
     "text": [
      "Which color has more dots?(blue or red) red\n"
     ]
    },
    {
     "name": "stdout",
     "output_type": "stream",
     "text": [
      "You are correct!\n"
     ]
    }
   ],
   "source": [
    "total_score, time_taken = plot_ANS_test(blue_num,red_num,'blue','red')\n"
   ]
  },
  {
   "cell_type": "code",
   "execution_count": 50,
   "id": "5b3b9989-1ff9-4f26-ac5f-b6f7481167e6",
   "metadata": {},
   "outputs": [],
   "source": [
    "def Full_ANS_test(numoftrial):\n",
    "    variation = True\n",
    "    variation_trigger = [0,1]\n",
    "    random_var_num = random.randrange(len(variation_trigger))\n",
    "    total_score = 0\n",
    "    total_time_taken = 0\n",
    "    blu_num = 0\n",
    "    red_num = 0\n",
    "    test_id = 0\n",
    "    print('Please enter your userid:')\n",
    "    userid = input('>')\n",
    "    print('How old are you?')\n",
    "    print('Enter your answer as a number')\n",
    "    age = input('>')\n",
    "    print('What is your profession?')\n",
    "    profession = input('>')\n",
    "    data_dict = {\n",
    "        'Userid': userid,\n",
    "        'age':age,\n",
    "        'profession':profession\n",
    "    }\n",
    "    ans = []\n",
    "\n",
    "\n",
    "\n",
    "\n",
    "    if random_var_num == 1 :\n",
    "        \n",
    "        for i in range(1,numoftrial+1):\n",
    "            \n",
    "            blu_num, red_num = pattern_generation(patterns,multiplier, list_of_value)\n",
    "            score, time_taken = plot_ANS_test(blu_num,red_num,'blue','red')\n",
    "\n",
    "            total_score += score\n",
    "            total_time_taken += time_taken\n",
    "            test_id = test_id + 1\n",
    "            ans.append(f'{score}, {test_id}, {time_taken}, {blu_num}, {red_num}')\n",
    "            data_dict[str(i)] = ans[-1]\n",
    "            \n",
    "\n",
    "            \n",
    "            time.sleep(1.5)\n",
    "    elif random_var_num == 0 :\n",
    "        \n",
    "        for i in range(1,numoftrial+1):\n",
    "            \n",
    "            red_num,blu_num = pattern_generation(patterns,multiplier, list_of_value)\n",
    "            score, time_taken = plot_ANS_test(red_num,blu_num,'red','blue')\n",
    "\n",
    "            total_score += score\n",
    "            total_time_taken += time_taken\n",
    "            test_id+=1\n",
    "            ans.append(f'{score}, {test_id}, {time_taken}, {blu_num}, {red_num}')\n",
    "            data_dict[str(i)] = ans[-1]\n",
    "            \n",
    "\n",
    "            time.sleep(1.5)\n",
    "    #print(total_time_taken)\n",
    "    #print(total_score)\n",
    "    #print(ans)\n",
    "    #print(data_dict)\n",
    "    form_url = 'https://docs.google.com/forms/d/e/1FAIpQLScu7e3Ky-ue5pjFxBri526nsoeeacsWfDec5hady-zTFGJsbw/viewform'\n",
    "    send_to_google_form(data_dict, form_url)\n",
    "    return total_time_taken, total_score\n",
    "   "
   ]
  },
  {
   "cell_type": "code",
   "execution_count": 51,
   "id": "c1b8f55e-06f4-42e2-8040-b5bb4f8ef96b",
   "metadata": {},
   "outputs": [
    {
     "name": "stdin",
     "output_type": "stream",
     "text": [
      "Which color has more dots?(red or blue) blue\n"
     ]
    },
    {
     "name": "stdout",
     "output_type": "stream",
     "text": [
      "23.006003618240356\n",
      "17\n",
      "['1, 1, 1.5443155765533447, 12, 9', '1, 2, 1.2682135105133057, 8, 9', '1, 3, 1.5103933811187744, 18, 20', '1, 4, 0.9437580108642578, 8, 9', '1, 5, 1.2477507591247559, 12, 9', '1, 6, 0.6559813022613525, 8, 9', '1, 7, 1.092527151107788, 16, 12', '1, 8, 1.2918715476989746, 21, 18', '1, 9, 0.6833012104034424, 8, 9', '1, 10, 1.328632116317749, 14, 12', '0, 11, 1.4741499423980713, 8, 9', '1, 12, 1.338240623474121, 21, 18', '1, 13, 1.241539716720581, 16, 12', '1, 14, 1.3258068561553955, 16, 12', '1, 15, 1.2025799751281738, 20, 15', '0, 16, 1.320803165435791, 8, 9', '1, 17, 0.7966947555541992, 18, 20', '1, 18, 1.4034333229064941, 16, 12', '1, 19, 1.3360106945037842, 21, 18']\n",
      "{'Userid': 'hq', 'age': '21', 'profession': 'student', '1': '1, 1, 1.5443155765533447, 12, 9', '2': '1, 2, 1.2682135105133057, 8, 9', '3': '1, 3, 1.5103933811187744, 18, 20', '4': '1, 4, 0.9437580108642578, 8, 9', '5': '1, 5, 1.2477507591247559, 12, 9', '6': '1, 6, 0.6559813022613525, 8, 9', '7': '1, 7, 1.092527151107788, 16, 12', '8': '1, 8, 1.2918715476989746, 21, 18', '9': '1, 9, 0.6833012104034424, 8, 9', '10': '1, 10, 1.328632116317749, 14, 12', '11': '0, 11, 1.4741499423980713, 8, 9', '12': '1, 12, 1.338240623474121, 21, 18', '13': '1, 13, 1.241539716720581, 16, 12', '14': '1, 14, 1.3258068561553955, 16, 12', '15': '1, 15, 1.2025799751281738, 20, 15', '16': '0, 16, 1.320803165435791, 8, 9', '17': '1, 17, 0.7966947555541992, 18, 20', '18': '1, 18, 1.4034333229064941, 16, 12', '19': '1, 19, 1.3360106945037842, 21, 18'}\n"
     ]
    }
   ],
   "source": [
    "total_time, total_score = Full_ANS_test(19)"
   ]
  },
  {
   "cell_type": "code",
   "execution_count": null,
   "id": "bddfd57d-5ab9-4017-82d4-f2dee892cbb1",
   "metadata": {},
   "outputs": [],
   "source": []
  },
  {
   "cell_type": "code",
   "execution_count": null,
   "id": "6b7f00d9-635d-41a1-bfa5-bb4f4340fd1f",
   "metadata": {},
   "outputs": [],
   "source": []
  },
  {
   "cell_type": "raw",
   "id": "c27bd8c4-f84d-4e30-9269-777835894555",
   "metadata": {},
   "source": []
  },
  {
   "cell_type": "code",
   "execution_count": 7,
   "id": "e5b53b3c-9453-437a-aa3c-38881229e65d",
   "metadata": {},
   "outputs": [
    {
     "name": "stdout",
     "output_type": "stream",
     "text": [
      "Please enter your userid:\n"
     ]
    },
    {
     "name": "stdin",
     "output_type": "stream",
     "text": [
      "> sthq\n"
     ]
    },
    {
     "name": "stdout",
     "output_type": "stream",
     "text": [
      "How old are you?\n",
      "Enter your answer as a number\n"
     ]
    },
    {
     "name": "stdin",
     "output_type": "stream",
     "text": [
      "> 15\n"
     ]
    },
    {
     "name": "stdout",
     "output_type": "stream",
     "text": [
      "What is your profession?\n"
     ]
    },
    {
     "name": "stdin",
     "output_type": "stream",
     "text": [
      "> student\n"
     ]
    },
    {
     "name": "stdout",
     "output_type": "stream",
     "text": [
      "Form item question1 not found. Data not uploaded.\n"
     ]
    },
    {
     "data": {
      "text/plain": [
       "False"
      ]
     },
     "execution_count": 7,
     "metadata": {},
     "output_type": "execute_result"
    }
   ],
   "source": []
  },
  {
   "cell_type": "code",
   "execution_count": null,
   "id": "3a5d1aae-7a9a-445b-8e4d-5e0c381234d9",
   "metadata": {},
   "outputs": [],
   "source": []
  }
 ],
 "metadata": {
  "kernelspec": {
   "display_name": "Python 3 (ipykernel)",
   "language": "python",
   "name": "python3"
  },
  "language_info": {
   "codemirror_mode": {
    "name": "ipython",
    "version": 3
   },
   "file_extension": ".py",
   "mimetype": "text/x-python",
   "name": "python",
   "nbconvert_exporter": "python",
   "pygments_lexer": "ipython3",
   "version": "3.10.10"
  }
 },
 "nbformat": 4,
 "nbformat_minor": 5
}
